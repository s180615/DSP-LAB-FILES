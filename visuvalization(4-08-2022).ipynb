{
 "cells": [
  {
   "cell_type": "code",
   "execution_count": 2,
   "id": "27d77c24",
   "metadata": {},
   "outputs": [
    {
     "data": {
      "image/png": "[encoded data removed]",
      "text/plain": [
       "<Figure size 432x288 with 1 Axes>"
      ]
     },
     "metadata": {
      "needs_background": "light"
     },
     "output_type": "display_data"
    }
   ],
   "source": [
    "import matplotlib.pyplot as plt\n",
    "x=[2,4,5,1,5,7,4,4,8]\n",
    "y=[23,34,12,34,45,23,67,34,54]\n",
    "color=[\"r\",\"b\",\"pink\",\"black\",\"green\",\"white\",\"yellow\",\"red\",\"blue\"]\n",
    "size=[110,123,134,145,156,134,123,134,145]\n",
    "plt.scatter(x,y,marker=\"^\",c=color,s=size,edgecolor=\"black\",linewidth=2)\n",
    "plt.show()"
   ]
  },
  {
   "cell_type": "code",
   "execution_count": 4,
   "id": "e7e00ab1",
   "metadata": {},
   "outputs": [
    {
     "name": "stdout",
     "output_type": "stream",
     "text": [
      "[0.69989185 0.69584072 0.91394659 0.70502043 0.54332761 0.77100368\n",
      " 0.93560965 0.853114   0.88075321 0.60133345 0.77112872 0.3252148\n",
      " 0.46149888 0.40204292 0.99538139 0.34266661 0.52795764 0.58184758\n",
      " 0.27384655 0.56640945 0.91825261 0.08366985 0.6642884  0.86679898\n",
      " 0.66307552 0.24104883 0.19402199 0.67046401 0.07563079 0.02510228\n",
      " 0.12551116 0.0786917  0.64593247 0.85165862 0.89501113 0.84872244\n",
      " 0.15821328 0.62242719 0.38193735 0.56972705]\n"
     ]
    }
   ],
   "source": [
    "import numpy as n\n",
    "print(n.random.random(40))"
   ]
  },
  {
   "cell_type": "code",
   "execution_count": 7,
   "id": "d393ce9c",
   "metadata": {},
   "outputs": [
    {
     "data": {
      "text/plain": [
       "<matplotlib.collections.PathCollection at 0x26d6afa4dc0>"
      ]
     },
     "execution_count": 7,
     "metadata": {},
     "output_type": "execute_result"
    },
    {
     "data": {
      "image/png": "[encoded data removed]",
      "text/plain": [
       "<Figure size 432x288 with 1 Axes>"
      ]
     },
     "metadata": {
      "needs_background": "light"
     },
     "output_type": "display_data"
    }
   ],
   "source": [
    "x=n.random.random(40)\n",
    "y=n.random.random(40)\n",
    "z=n.random.random(40)\n",
    "color=[\"red\",\"green\",\"yellow\",\"black\",\"blue\",\n",
    "      \"red\",\"green\",\"yellow\",\"black\",\"blue\",\n",
    "      \"red\",\"green\",\"yellow\",\"black\",\"blue\",\n",
    "      \"red\",\"green\",\"yellow\",\"black\",\"blue\"\n",
    "      ,\"red\",\"green\",\"yellow\",\"black\",\"blue\",\n",
    "      \"red\",\"green\",\"yellow\",\"black\",\"blue\",\n",
    "      \"red\",\"green\",\"yellow\",\"black\",\"blue\",\n",
    "      \"red\",\"green\",\"yellow\",\"black\",\"blue\"]\n",
    "plt.scatter(x,y,z*500,marker=\"<\",alpha=0.3,c=color)"
   ]
  },
  {
   "cell_type": "code",
   "execution_count": 2,
   "id": "1baa44fa",
   "metadata": {},
   "outputs": [
    {
     "name": "stdout",
     "output_type": "stream",
     "text": [
      "   S.NO     NAME  AGE  SALARY   DEPT GENDER\n",
      "0     1  LAVANYA   23   10000    CSE      F\n",
      "1     2  MAHITHA   25   20000    CSE      F\n",
      "2     3     YOGI   23   23466    ECE      M\n",
      "3     4     TEJU   25   12344    ECE      F\n",
      "4     5      SAI   26   34567   MECH      M\n",
      "5     6   MANASA   24   34568   MECH      F\n",
      "6     7  SHARATH   28   12345  CIVIL      M\n",
      "7     8  SAHITHI   23   23456  CIVIL      F\n"
     ]
    }
   ],
   "source": [
    "import pandas as pd\n",
    "import numpy as np\n",
    "df=pd.read_csv(\"sl.csv\")\n",
    "print(df)\n"
   ]
  },
  {
   "cell_type": "code",
   "execution_count": 3,
   "id": "967b7b10",
   "metadata": {},
   "outputs": [
    {
     "name": "stdout",
     "output_type": "stream",
     "text": [
      "        S.NO        AGE        SALARY\n",
      "GENDER                               \n",
      "F        4.2  24.000000  20073.600000\n",
      "M        5.0  25.666667  23459.333333\n"
     ]
    }
   ],
   "source": [
    "print(df.groupby([\"GENDER\"]).mean())"
   ]
  },
  {
   "cell_type": "code",
   "execution_count": 4,
   "id": "7c70ef8f",
   "metadata": {},
   "outputs": [
    {
     "name": "stdout",
     "output_type": "stream",
     "text": [
      "<pandas.core.groupby.generic.DataFrameGroupBy object at 0x00000191E7ABC790>\n"
     ]
    }
   ],
   "source": [
    "a=df.groupby([\"GENDER\",\"DEPT\"])\n",
    "print(a)"
   ]
  },
  {
   "cell_type": "code",
   "execution_count": 5,
   "id": "ba4db851",
   "metadata": {},
   "outputs": [
    {
     "name": "stdout",
     "output_type": "stream",
     "text": [
      "<pandas.core.groupby.generic.DataFrameGroupBy object at 0x00000191E418A1A0>\n"
     ]
    }
   ],
   "source": [
    "print(df.groupby([\"GENDER\"]))"
   ]
  },
  {
   "cell_type": "code",
   "execution_count": 6,
   "id": "6dcb9c32",
   "metadata": {},
   "outputs": [
    {
     "name": "stdout",
     "output_type": "stream",
     "text": [
      "{('F', 'CIVIL'): [7], ('F', 'CSE'): [0, 1], ('F', 'ECE'): [3], ('F', 'MECH'): [5], ('M', 'CIVIL'): [6], ('M', 'ECE'): [2], ('M', 'MECH'): [4]}\n"
     ]
    }
   ],
   "source": [
    "print(a.groups)"
   ]
  },
  {
   "cell_type": "code",
   "execution_count": 10,
   "id": "79d056f3",
   "metadata": {},
   "outputs": [
    {
     "name": "stdout",
     "output_type": "stream",
     "text": [
      "       S.NO   AGE   SALARY\n",
      "DEPT                      \n",
      "CIVIL   7.5  25.5  17900.5\n",
      "CSE     1.5  24.0  15000.0\n",
      "ECE     3.5  24.0  17905.0\n",
      "MECH    5.5  25.0  34567.5\n"
     ]
    }
   ],
   "source": [
    "print(df.groupby([\"DEPT\"]).mean())"
   ]
  },
  {
   "cell_type": "code",
   "execution_count": 14,
   "id": "ecd856f6",
   "metadata": {},
   "outputs": [
    {
     "name": "stdout",
     "output_type": "stream",
     "text": [
      "       S.NO     NAME  AGE  SALARY GENDER\n",
      "DEPT                                    \n",
      "CIVIL     8  SHARATH   28   23456      M\n",
      "CSE       2  MAHITHA   25   20000      F\n",
      "ECE       4     YOGI   25   23466      M\n",
      "MECH      6      SAI   26   34568      M\n"
     ]
    }
   ],
   "source": [
    "print(df.groupby([\"DEPT\"]).max())"
   ]
  },
  {
   "cell_type": "code",
   "execution_count": 15,
   "id": "deef5015",
   "metadata": {},
   "outputs": [
    {
     "name": "stdout",
     "output_type": "stream",
     "text": [
      "        S.NO  NAME  AGE  SALARY  DEPT\n",
      "GENDER                               \n",
      "F          8  TEJU   25   34568  MECH\n",
      "M          7  YOGI   28   34567  MECH\n"
     ]
    }
   ],
   "source": [
    "print(df.groupby([\"GENDER\"]).max())"
   ]
  },
  {
   "cell_type": "code",
   "execution_count": null,
   "id": "2382a215",
   "metadata": {},
   "outputs": [],
   "source": [
    "print()"
   ]
  }
 ],
 "metadata": {
  "kernelspec": {
   "display_name": "Python 3 (ipykernel)",
   "language": "python",
   "name": "python3"
  },
  "language_info": {
   "codemirror_mode": {
    "name": "ipython",
    "version": 3
   },
   "file_extension": ".py",
   "mimetype": "text/x-python",
   "name": "python",
   "nbconvert_exporter": "python",
   "pygments_lexer": "ipython3",
   "version": "3.10.5"
  }
 },
 "nbformat": 4,
 "nbformat_minor": 5
}
