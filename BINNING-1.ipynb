{
 "cells": [
  {
   "cell_type": "code",
   "execution_count": 1,
   "id": "306f4f03",
   "metadata": {},
   "outputs": [
    {
     "name": "stdout",
     "output_type": "stream",
     "text": [
      "    POINTS   ASSISTS  REBOUNDS\n",
      "0        4         2         7\n",
      "1        4         5         7\n",
      "2        7         4         4\n",
      "3        8         7         6\n",
      "4       12         7         3\n",
      "5       13         8         8\n",
      "6       15         5         9\n",
      "7       18         4         9\n",
      "8       22         5        12\n",
      "9       23        11        11\n",
      "10      23        13         8\n",
      "11      25         8         9\n"
     ]
    }
   ],
   "source": [
    "import pandas as pd\n",
    "df=pd.read_csv(\"ab.csv\")\n",
    "print(df)"
   ]
  },
  {
   "cell_type": "code",
   "execution_count": 2,
   "id": "8c587e79",
   "metadata": {},
   "outputs": [
    {
     "name": "stdout",
     "output_type": "stream",
     "text": [
      "0      (3.999, 10.667]\n",
      "1      (3.999, 10.667]\n",
      "2      (3.999, 10.667]\n",
      "3      (3.999, 10.667]\n",
      "4     (10.667, 19.333]\n",
      "5     (10.667, 19.333]\n",
      "6     (10.667, 19.333]\n",
      "7     (10.667, 19.333]\n",
      "8       (19.333, 25.0]\n",
      "9       (19.333, 25.0]\n",
      "10      (19.333, 25.0]\n",
      "11      (19.333, 25.0]\n",
      "Name: POINTS, dtype: category\n",
      "Categories (3, interval[float64, right]): [(3.999, 10.667] < (10.667, 19.333] < (19.333, 25.0]]\n"
     ]
    }
   ],
   "source": [
    "s=df['POINTS_bin']=pd.qcut(df['POINTS'],q=3)\n",
    "print(s)\n"
   ]
  },
  {
   "cell_type": "code",
   "execution_count": 3,
   "id": "24870f50",
   "metadata": {},
   "outputs": [
    {
     "name": "stdout",
     "output_type": "stream",
     "text": [
      "(3.999, 10.667]     4\n",
      "(10.667, 19.333]    4\n",
      "(19.333, 25.0]      4\n",
      "Name: POINTS_bin, dtype: int64\n"
     ]
    }
   ],
   "source": [
    "w=df['POINTS_bin'].value_counts()\n",
    "print(w)"
   ]
  },
  {
   "cell_type": "code",
   "execution_count": 4,
   "id": "ecae49ac",
   "metadata": {},
   "outputs": [
    {
     "name": "stdout",
     "output_type": "stream",
     "text": [
      "0     A\n",
      "1     A\n",
      "2     A\n",
      "3     B\n",
      "4     B\n",
      "5     C\n",
      "6     C\n",
      "7     D\n",
      "8     D\n",
      "9     E\n",
      "10    E\n",
      "11    E\n",
      "Name: POINTS, dtype: category\n",
      "Categories (5, object): ['A' < 'B' < 'C' < 'D' < 'E']\n"
     ]
    }
   ],
   "source": [
    "S=df[\"POINTS_bin\"]=pd.qcut(df['POINTS'],q=[0,0.2,0.4,0.6,0.8,1],labels=['A','B','C','D','E'])\n",
    "print(S)"
   ]
  },
  {
   "cell_type": "code",
   "execution_count": null,
   "id": "fa4be4c1",
   "metadata": {},
   "outputs": [],
   "source": []
  }
 ],
 "metadata": {
  "kernelspec": {
   "display_name": "Python 3 (ipykernel)",
   "language": "python",
   "name": "python3"
  },
  "language_info": {
   "codemirror_mode": {
    "name": "ipython",
    "version": 3
   },
   "file_extension": ".py",
   "mimetype": "text/x-python",
   "name": "python",
   "nbconvert_exporter": "python",
   "pygments_lexer": "ipython3",
   "version": "3.10.5"
  }
 },
 "nbformat": 4,
 "nbformat_minor": 5
}
