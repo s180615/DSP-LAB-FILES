{
 "cells": [
  {
   "cell_type": "code",
   "execution_count": 1,
   "id": "76256f10",
   "metadata": {},
   "outputs": [
    {
     "name": "stdout",
     "output_type": "stream",
     "text": [
      "   S.NO     NAME  AGE  SALARY   DEPT GENDER\n",
      "0     1  LAVANYA   23   10000    CSE      F\n",
      "1     2  MAHITHA   25   20000    CSE      F\n",
      "2     3     YOGI   23   23466    ECE      M\n",
      "3     4     TEJU   25   12344    ECE      F\n",
      "4     5      SAI   26   34567   MECH      M\n",
      "5     6   MANASA   24   34568   MECH      F\n",
      "6     7  SHARATH   28   12345  CIVIL      M\n",
      "7     8  SAHITHI   23   23456  CIVIL      F\n"
     ]
    }
   ],
   "source": [
    "import pandas as pd\n",
    "import numpy as np\n",
    "df=pd.read_csv(\"sl.csv\")\n",
    "print(df)"
   ]
  },
  {
   "cell_type": "code",
   "execution_count": 6,
   "id": "c22b58ea",
   "metadata": {},
   "outputs": [
    {
     "name": "stdout",
     "output_type": "stream",
     "text": [
      "<pandas.core.groupby.generic.DataFrameGroupBy object at 0x0000022D37C8C4F0>\n"
     ]
    }
   ],
   "source": [
    "a=print(df.groupby([\"GENDER\"]))"
   ]
  },
  {
   "cell_type": "code",
   "execution_count": 3,
   "id": "33962026",
   "metadata": {},
   "outputs": [
    {
     "name": "stdout",
     "output_type": "stream",
     "text": [
      "        S.NO        AGE        SALARY\n",
      "GENDER                               \n",
      "F        4.2  24.000000  20073.600000\n",
      "M        5.0  25.666667  23459.333333\n"
     ]
    }
   ],
   "source": [
    "print(df.groupby([\"GENDER\"]).mean())"
   ]
  },
  {
   "cell_type": "code",
   "execution_count": 4,
   "id": "1b29d7d7",
   "metadata": {},
   "outputs": [
    {
     "name": "stdout",
     "output_type": "stream",
     "text": [
      "<pandas.core.groupby.generic.DataFrameGroupBy object at 0x0000022D37969EA0>\n"
     ]
    }
   ],
   "source": [
    "print(df.groupby([\"GENDER\",\"DEPT\"]))"
   ]
  },
  {
   "cell_type": "code",
   "execution_count": 9,
   "id": "bd3bfebf",
   "metadata": {},
   "outputs": [
    {
     "name": "stdout",
     "output_type": "stream",
     "text": [
      "<pandas.core.groupby.generic.DataFrameGroupBy object at 0x0000022D3373B1F0>\n"
     ]
    }
   ],
   "source": [
    "a=df.groupby([\"GENDER\",\"DEPT\"])\n",
    "print(a)"
   ]
  },
  {
   "cell_type": "code",
   "execution_count": 10,
   "id": "bce9d8eb",
   "metadata": {},
   "outputs": [
    {
     "name": "stdout",
     "output_type": "stream",
     "text": [
      "{('F', 'CIVIL'): [7], ('F', 'CSE'): [0, 1], ('F', 'ECE'): [3], ('F', 'MECH'): [5], ('M', 'CIVIL'): [6], ('M', 'ECE'): [2], ('M', 'MECH'): [4]}\n"
     ]
    }
   ],
   "source": [
    "print(a.groups)"
   ]
  },
  {
   "cell_type": "code",
   "execution_count": 13,
   "id": "6541cc35",
   "metadata": {},
   "outputs": [
    {
     "name": "stdout",
     "output_type": "stream",
     "text": [
      "       S.NO   AGE   SALARY\n",
      "DEPT                      \n",
      "CIVIL   7.5  25.5  17900.5\n",
      "CSE     1.5  24.0  15000.0\n",
      "ECE     3.5  24.0  17905.0\n",
      "MECH    5.5  25.0  34567.5\n"
     ]
    }
   ],
   "source": [
    "print(df.groupby([\"DEPT\"]).mean())"
   ]
  },
  {
   "cell_type": "code",
   "execution_count": 14,
   "id": "f8cc02dc",
   "metadata": {},
   "outputs": [
    {
     "name": "stdout",
     "output_type": "stream",
     "text": [
      "       S.NO     NAME  AGE  SALARY GENDER\n",
      "DEPT                                    \n",
      "CIVIL     8  SHARATH   28   23456      M\n",
      "CSE       2  MAHITHA   25   20000      F\n",
      "ECE       4     YOGI   25   23466      M\n",
      "MECH      6      SAI   26   34568      M\n"
     ]
    }
   ],
   "source": [
    "\n",
    "print(df.groupby([\"DEPT\"]).max())"
   ]
  },
  {
   "cell_type": "code",
   "execution_count": 16,
   "id": "4f64c0d0",
   "metadata": {},
   "outputs": [
    {
     "name": "stdout",
     "output_type": "stream",
     "text": [
      "        S.NO  NAME  AGE  SALARY  DEPT\n",
      "GENDER                               \n",
      "F          8  TEJU   25   34568  MECH\n",
      "M          7  YOGI   28   34567  MECH\n"
     ]
    }
   ],
   "source": [
    "print(df.groupby([\"GENDER\"]).max())"
   ]
  },
  {
   "cell_type": "code",
   "execution_count": 17,
   "id": "6299681b",
   "metadata": {},
   "outputs": [
    {
     "name": "stdout",
     "output_type": "stream",
     "text": [
      "{'CIVIL': [6, 7], 'CSE': [0, 1], 'ECE': [2, 3], 'MECH': [4, 5]}\n"
     ]
    }
   ],
   "source": [
    "print(df.groupby([\"DEPT\"]).groups)"
   ]
  },
  {
   "cell_type": "code",
   "execution_count": 18,
   "id": "e13d8dd3",
   "metadata": {},
   "outputs": [
    {
     "name": "stdout",
     "output_type": "stream",
     "text": [
      "{'F': [0, 1, 3, 5, 7], 'M': [2, 4, 6]}\n"
     ]
    }
   ],
   "source": [
    "print(df.groupby([\"GENDER\"]).groups)"
   ]
  },
  {
   "cell_type": "code",
   "execution_count": 19,
   "id": "29c6fc74",
   "metadata": {},
   "outputs": [
    {
     "name": "stdout",
     "output_type": "stream",
     "text": [
      "   S.NO     NAME  AGE  SALARY   DEPT GENDER\n",
      "2     3     YOGI   23   23466    ECE      M\n",
      "4     5      SAI   26   34567   MECH      M\n",
      "6     7  SHARATH   28   12345  CIVIL      M\n"
     ]
    }
   ],
   "source": [
    "g=df.groupby([\"GENDER\"])\n",
    "print(g.get_group(\"M\"))"
   ]
  },
  {
   "cell_type": "code",
   "execution_count": 20,
   "id": "4b3b4ff2",
   "metadata": {},
   "outputs": [
    {
     "name": "stdout",
     "output_type": "stream",
     "text": [
      "   S.NO     NAME  AGE  SALARY   DEPT GENDER\n",
      "0     1  LAVANYA   23   10000    CSE      F\n",
      "1     2  MAHITHA   25   20000    CSE      F\n",
      "3     4     TEJU   25   12344    ECE      F\n",
      "5     6   MANASA   24   34568   MECH      F\n",
      "7     8  SAHITHI   23   23456  CIVIL      F\n"
     ]
    }
   ],
   "source": [
    "print(g.get_group('F'))"
   ]
  },
  {
   "cell_type": "code",
   "execution_count": 21,
   "id": "16ce440d",
   "metadata": {},
   "outputs": [
    {
     "data": {
      "text/plain": [
       "F    5\n",
       "M    3\n",
       "Name: GENDER, dtype: int64"
      ]
     },
     "execution_count": 21,
     "metadata": {},
     "output_type": "execute_result"
    }
   ],
   "source": [
    "df[\"GENDER\"].value_counts()"
   ]
  },
  {
   "cell_type": "code",
   "execution_count": null,
   "id": "47c351dc",
   "metadata": {},
   "outputs": [],
   "source": []
  },
  {
   "cell_type": "code",
   "execution_count": null,
   "id": "20f7021f",
   "metadata": {},
   "outputs": [],
   "source": []
  }
 ],
 "metadata": {
  "kernelspec": {
   "display_name": "Python 3 (ipykernel)",
   "language": "python",
   "name": "python3"
  },
  "language_info": {
   "codemirror_mode": {
    "name": "ipython",
    "version": 3
   },
   "file_extension": ".py",
   "mimetype": "text/x-python",
   "name": "python",
   "nbconvert_exporter": "python",
   "pygments_lexer": "ipython3",
   "version": "3.10.5"
  }
 },
 "nbformat": 4,
 "nbformat_minor": 5
}
