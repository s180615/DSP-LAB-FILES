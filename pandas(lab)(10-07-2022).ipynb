{
 "cells": [
  {
   "cell_type": "code",
   "execution_count": 3,
   "id": "564d0b0a",
   "metadata": {},
   "outputs": [
    {
     "name": "stdout",
     "output_type": "stream",
     "text": [
      "0    1\n",
      "1    2\n",
      "2    3\n",
      "dtype: int64\n"
     ]
    }
   ],
   "source": [
    "## CREATION OF SERIES FROM SCALAR VALUES\n",
    "import pandas as pd\n",
    "a=pd.Series([1,2,3])\n",
    "print(a)\n"
   ]
  },
  {
   "cell_type": "code",
   "execution_count": 6,
   "id": "ed24f80f",
   "metadata": {},
   "outputs": [
    {
     "name": "stdout",
     "output_type": "stream",
     "text": [
      "1    a\n",
      "2    b\n",
      "3    l\n",
      "dtype: object\n"
     ]
    }
   ],
   "source": [
    "import pandas as pd\n",
    "a=pd.Series([\"a\",\"b\",\"l\"],index=([1,2,3]))\n",
    "print(a)"
   ]
  },
  {
   "cell_type": "code",
   "execution_count": 7,
   "id": "fba2c48e",
   "metadata": {},
   "outputs": [
    {
     "name": "stdout",
     "output_type": "stream",
     "text": [
      "0    1\n",
      "1    2\n",
      "2    3\n",
      "dtype: int32\n"
     ]
    }
   ],
   "source": [
    "## creation of series from numpy as arrays\n",
    "import numpy as np\n",
    "import pandas as pd\n",
    "a=np.array([1,2,3])\n",
    "b=pd.Series(a)\n",
    "print(b)"
   ]
  },
  {
   "cell_type": "code",
   "execution_count": 9,
   "id": "262feaa0",
   "metadata": {},
   "outputs": [
    {
     "name": "stdout",
     "output_type": "stream",
     "text": [
      "{'a': 1, 'b': 2, 'c': 3}\n",
      "a    1\n",
      "b    2\n",
      "c    3\n",
      "dtype: int64\n"
     ]
    }
   ],
   "source": [
    "## creation of Series from Dictionary\n",
    "d={'a':1,'b':2,'c':3}\n",
    "print(d)\n",
    "b=pd.Series(d)\n",
    "print(b)"
   ]
  },
  {
   "cell_type": "code",
   "execution_count": 10,
   "id": "3a228995",
   "metadata": {},
   "outputs": [
    {
     "data": {
      "text/plain": [
       "'c'"
      ]
     },
     "execution_count": 10,
     "metadata": {},
     "output_type": "execute_result"
    }
   ],
   "source": [
    "## ACESSING ELEMENTS OF A SERIES\n",
    "import pandas as pd\n",
    "a=pd.Series([\"a\",\"b\",\"c\"])\n",
    "a[2]\n"
   ]
  },
  {
   "cell_type": "code",
   "execution_count": 11,
   "id": "f5634ddd",
   "metadata": {},
   "outputs": [
    {
     "name": "stdout",
     "output_type": "stream",
     "text": [
      "1\n"
     ]
    }
   ],
   "source": [
    "import pandas as pd\n",
    "b=pd.Series([1,2,3],index=[\"a\",\"b\",\"c\"])\n",
    "s=b[\"a\"]\n",
    "print(s)\n"
   ]
  },
  {
   "cell_type": "code",
   "execution_count": 12,
   "id": "5ae8cc09",
   "metadata": {},
   "outputs": [
    {
     "name": "stdout",
     "output_type": "stream",
     "text": [
      "b    2\n",
      "c    3\n",
      "dtype: int64\n"
     ]
    }
   ],
   "source": [
    "d=b[[1,2]]\n",
    "print(d)"
   ]
  },
  {
   "cell_type": "code",
   "execution_count": 13,
   "id": "9f32c36f",
   "metadata": {},
   "outputs": [
    {
     "name": "stdout",
     "output_type": "stream",
     "text": [
      "1    lavanya\n",
      "2     swathi\n",
      "3       teju\n",
      "4       mahi\n",
      "5       siri\n",
      "dtype: object\n"
     ]
    }
   ],
   "source": [
    "import pandas as np\n",
    "a=pd.Series([\"lavanya\",\"swathi\",\"teju\",\"mahi\",\"siri\"],index=[1,2,3,4,5])\n",
    "print(a)"
   ]
  },
  {
   "cell_type": "code",
   "execution_count": 16,
   "id": "8bbdda6b",
   "metadata": {},
   "outputs": [
    {
     "name": "stdout",
     "output_type": "stream",
     "text": [
      "1    lavanya\n",
      "2      swthi\n",
      "dtype: object\n"
     ]
    }
   ],
   "source": [
    "######## ATTRIBUTES OF  A SERIES ############\n",
    "import pandas as pd\n",
    "a=pd.Series([\"lavanya\",\"swathi\"],index=[1,2])\n",
    "a.empty\n",
    "print(a)"
   ]
  },
  {
   "cell_type": "code",
   "execution_count": 17,
   "id": "b511a765",
   "metadata": {},
   "outputs": [
    {
     "name": "stdout",
     "output_type": "stream",
     "text": [
      "0    5\n",
      "1    6\n",
      "2    7\n",
      "3    8\n",
      "4    9\n",
      "dtype: int32\n"
     ]
    }
   ],
   "source": [
    "######## METHODS OF SERIES ########\n",
    "import numpy as np\n",
    "import pandas as pd\n",
    "a=pd.Series(np.arange(5,10,1))\n",
    "print(a)"
   ]
  },
  {
   "cell_type": "code",
   "execution_count": 18,
   "id": "4ea4197b",
   "metadata": {},
   "outputs": [
    {
     "data": {
      "text/plain": [
       "0    5\n",
       "1    6\n",
       "2    7\n",
       "3    8\n",
       "4    9\n",
       "dtype: int32"
      ]
     },
     "execution_count": 18,
     "metadata": {},
     "output_type": "execute_result"
    }
   ],
   "source": [
    "a.head()"
   ]
  },
  {
   "cell_type": "code",
   "execution_count": 19,
   "id": "ef2b133d",
   "metadata": {},
   "outputs": [
    {
     "data": {
      "text/plain": [
       "0    5\n",
       "1    6\n",
       "2    7\n",
       "dtype: int32"
      ]
     },
     "execution_count": 19,
     "metadata": {},
     "output_type": "execute_result"
    }
   ],
   "source": [
    "a.head(3)"
   ]
  },
  {
   "cell_type": "code",
   "execution_count": 20,
   "id": "bb0a1e15",
   "metadata": {},
   "outputs": [
    {
     "data": {
      "text/plain": [
       "5"
      ]
     },
     "execution_count": 20,
     "metadata": {},
     "output_type": "execute_result"
    }
   ],
   "source": [
    "a.count()"
   ]
  },
  {
   "cell_type": "code",
   "execution_count": 21,
   "id": "25b8ba37",
   "metadata": {},
   "outputs": [
    {
     "data": {
      "text/plain": [
       "0    5\n",
       "1    6\n",
       "2    7\n",
       "3    8\n",
       "4    9\n",
       "dtype: int32"
      ]
     },
     "execution_count": 21,
     "metadata": {},
     "output_type": "execute_result"
    }
   ],
   "source": [
    "a.tail()\n"
   ]
  },
  {
   "cell_type": "code",
   "execution_count": 22,
   "id": "df8d0e08",
   "metadata": {},
   "outputs": [
    {
     "data": {
      "text/plain": [
       "2    7\n",
       "3    8\n",
       "4    9\n",
       "dtype: int32"
      ]
     },
     "execution_count": 22,
     "metadata": {},
     "output_type": "execute_result"
    }
   ],
   "source": [
    "a.tail(3)"
   ]
  },
  {
   "cell_type": "code",
   "execution_count": 23,
   "id": "43390b44",
   "metadata": {},
   "outputs": [
    {
     "name": "stdout",
     "output_type": "stream",
     "text": [
      "0     6\n",
      "1     8\n",
      "2    10\n",
      "dtype: int64\n"
     ]
    }
   ],
   "source": [
    " ###### MATHEMATICAL OPERATIONS ##################\n",
    "import pandas as pd\n",
    "import numpy as np\n",
    "a=pd.Series([1,2,3])\n",
    "b=pd.Series([5,6,7])\n",
    "print(a+b)\n"
   ]
  },
  {
   "cell_type": "code",
   "execution_count": 24,
   "id": "64577eca",
   "metadata": {},
   "outputs": [
    {
     "name": "stdout",
     "output_type": "stream",
     "text": [
      "0   -4\n",
      "1   -4\n",
      "2   -4\n",
      "dtype: int64\n"
     ]
    }
   ],
   "source": [
    "print(a-b)"
   ]
  },
  {
   "cell_type": "code",
   "execution_count": 25,
   "id": "68845982",
   "metadata": {},
   "outputs": [
    {
     "name": "stdout",
     "output_type": "stream",
     "text": [
      "0     5\n",
      "1    12\n",
      "2    21\n",
      "dtype: int64\n"
     ]
    }
   ],
   "source": [
    "print(a*b)"
   ]
  },
  {
   "cell_type": "code",
   "execution_count": 26,
   "id": "564331f4",
   "metadata": {},
   "outputs": [
    {
     "name": "stdout",
     "output_type": "stream",
     "text": [
      "0    0.200000\n",
      "1    0.333333\n",
      "2    0.428571\n",
      "dtype: float64\n"
     ]
    }
   ],
   "source": [
    "print(a/b)"
   ]
  },
  {
   "cell_type": "code",
   "execution_count": 1,
   "id": "9c1b6a23",
   "metadata": {},
   "outputs": [
    {
     "name": "stdout",
     "output_type": "stream",
     "text": [
      "   0\n",
      "0  1\n",
      "1  2\n",
      "2  3\n"
     ]
    }
   ],
   "source": [
    "######## DATAFRAME ###########\n",
    "import pandas as pd\n",
    "import numpy as np\n",
    "a=np.array([1,2,3])\n",
    "b=np.array([4,5,6])\n",
    "c=np.array([9,10,11])\n",
    "d=pd.DataFrame(a)\n",
    "print(d)"
   ]
  },
  {
   "cell_type": "code",
   "execution_count": 2,
   "id": "9c282353",
   "metadata": {},
   "outputs": [
    {
     "name": "stdout",
     "output_type": "stream",
     "text": [
      "   lavanya  mahitha  teju  siri\n",
      "0        1        2     3     4\n"
     ]
    }
   ],
   "source": [
    "import pandas as pd\n",
    "import numpy as np\n",
    "dict=[{\"lavanya\":1,\"mahitha\":2,\"teju\":3,\"siri\":4}]\n",
    "e=pd.DataFrame(dict)\n",
    "print(e)"
   ]
  },
  {
   "cell_type": "code",
   "execution_count": 3,
   "id": "ecfc9c6c",
   "metadata": {},
   "outputs": [
    {
     "name": "stdout",
     "output_type": "stream",
     "text": [
      "                                                   0\n",
      "0  {'lavanya': 1, 'mahitha': 2, 'teju': 3, 'siri'...\n"
     ]
    }
   ],
   "source": [
    "a=pd.Series([{\"lavanya\":1,\"mahitha\":2,\"teju\":3,\"siri\":4}])\n",
    "d=pd.DataFrame(a)\n",
    "print(d)"
   ]
  },
  {
   "cell_type": "code",
   "execution_count": 4,
   "id": "861f6f69",
   "metadata": {},
   "outputs": [
    {
     "name": "stdout",
     "output_type": "stream",
     "text": [
      "   student section  marks\n",
      "0  lavanya       a    100\n",
      "1  mahitha       b    200\n",
      "2     siri       c    300\n",
      "3     teju       d    400\n"
     ]
    }
   ],
   "source": [
    "import pandas as pd\n",
    "dict={'student':[\"lavanya\",\"mahitha\",\"siri\",\"teju\"],'section':[\"a\",\"b\",\"c\",\"d\"],\"marks\":[100,200,300,400]}\n",
    "a=pd.DataFrame(dict)\n",
    "print(a)"
   ]
  },
  {
   "cell_type": "code",
   "execution_count": 9,
   "id": "9f39fb3a",
   "metadata": {},
   "outputs": [
    {
     "name": "stdout",
     "output_type": "stream",
     "text": [
      "         Lavanya  Mahitha  Siri  Teju\n",
      "MATHS         90       92    96    90\n",
      "SCIENCE       91       81    98   100\n",
      "HINDI         93       89    94    97\n"
     ]
    }
   ],
   "source": [
    "####### OPERATIONS ON ROWS AND COLUMNS IN A DATAFRAME\n",
    "import pandas as pd\n",
    "a={'Lavanya': pd.Series([90,91,93],\n",
    "    index=[\"MATHS\",\"SCIENCE\",\"HINDI\"]),\n",
    "  'Mahitha':pd.Series([92,81,89],\n",
    "  index=[\"MATHS\",\"SCIENCE\",\"HINDI\"]),\n",
    "  'Siri':pd.Series([96,98,94],\n",
    "    index=[\"MATHS\",\"SCIENCE\",\"HINDI\"]),\n",
    "  'Teju':pd.Series([90,100,97],\n",
    "   index=[\"MATHS\",\"SCIENCE\",\"HINDI\"])}\n",
    "\n",
    "MS=pd.DataFrame(a)\n",
    "print(MS)"
   ]
  },
  {
   "cell_type": "code",
   "execution_count": 10,
   "id": "b4f487b9",
   "metadata": {},
   "outputs": [
    {
     "name": "stdout",
     "output_type": "stream",
     "text": [
      "         Lavanya  Mahitha  Siri  Teju Manasa\n",
      "MATHS         90       92    96    90     90\n",
      "SCIENCE       91       81    98   100     95\n",
      "HINDI         93       89    94    97     96\n"
     ]
    }
   ],
   "source": [
    "# ADDING new column\n",
    "MS['Manasa']=['90','95','96']\n",
    "print(MS)"
   ]
  },
  {
   "cell_type": "code",
   "execution_count": 11,
   "id": "96d7d0db",
   "metadata": {},
   "outputs": [
    {
     "name": "stdout",
     "output_type": "stream",
     "text": [
      "         Lavanya  Mahitha  Siri  Teju Manasa\n",
      "MATHS         93       92    96    90     90\n",
      "SCIENCE       93       81    98   100     95\n",
      "HINDI         93       89    94    97     96\n"
     ]
    }
   ],
   "source": [
    "#change data of an entire column to a particular value in a DataFrame\n",
    "MS[\"Lavanya\"]=93\n",
    "print(MS)"
   ]
  },
  {
   "cell_type": "code",
   "execution_count": 13,
   "id": "4a30e327",
   "metadata": {},
   "outputs": [
    {
     "name": "stdout",
     "output_type": "stream",
     "text": [
      "        Lavanya Mahitha Siri Teju Manasa\n",
      "MATHS        93      92   96   90     90\n",
      "SCIENCE      93      81   98  100     95\n",
      "HINDI        93      89   94   97     96\n",
      "DSP          89      86   87   89     84\n"
     ]
    }
   ],
   "source": [
    "# Adding a New Row to a DataFrame\n",
    "MS.loc['DSP']=['89','86','87','89','84']\n",
    "print(MS)"
   ]
  },
  {
   "cell_type": "code",
   "execution_count": 15,
   "id": "a8e23db9",
   "metadata": {},
   "outputs": [
    {
     "name": "stdout",
     "output_type": "stream",
     "text": [
      "        Lavanya Mahitha Siri Teju Manasa\n",
      "MATHS        93      92   96   90     90\n",
      "SCIENCE      20      20   20   20     20\n",
      "HINDI        93      89   94   97     96\n",
      "DSP          89      86   87   89     84\n"
     ]
    }
   ],
   "source": [
    "#change the data values of a row to a particular value\n",
    "MS.loc['SCIENCE']=20\n",
    "print(MS)"
   ]
  },
  {
   "cell_type": "code",
   "execution_count": 16,
   "id": "e892021d",
   "metadata": {},
   "outputs": [
    {
     "name": "stdout",
     "output_type": "stream",
     "text": [
      "         Lavanya  Mahitha  Siri  Teju  Manasa\n",
      "MATHS         90       90    90    90      90\n",
      "SCIENCE       90       90    90    90      90\n",
      "HINDI         90       90    90    90      90\n",
      "DSP           90       90    90    90      90\n"
     ]
    }
   ],
   "source": [
    "#we can set all values of a DataFrame to a particular value\n",
    "MS.loc[:]=90\n",
    "print(MS)"
   ]
  },
  {
   "cell_type": "code",
   "execution_count": 19,
   "id": "f20b815d",
   "metadata": {},
   "outputs": [
    {
     "name": "stdout",
     "output_type": "stream",
     "text": [
      "       Lavanya  Mahitha  Siri  Teju  Manasa\n",
      "MATHS       90       90    90    90      90\n",
      "HINDI       90       90    90    90      90\n",
      "DSP         90       90    90    90      90\n"
     ]
    }
   ],
   "source": [
    "#Deleting Rows or Columns from a DataFrame\n",
    "MS=MS.drop('SCIENCE',axis=0)\n",
    "print(MS)"
   ]
  },
  {
   "cell_type": "code",
   "execution_count": 21,
   "id": "ab0f6608",
   "metadata": {},
   "outputs": [
    {
     "name": "stdout",
     "output_type": "stream",
     "text": [
      "       Lavanya  Mahitha  Siri  Teju\n",
      "MATHS       90       90    90    90\n",
      "HINDI       90       90    90    90\n",
      "DSP         90       90    90    90\n"
     ]
    }
   ],
   "source": [
    "#DELETING A COLUMN\n",
    "MS=MS.drop(['Manasa'],axis=1)\n",
    "print(MS)"
   ]
  },
  {
   "cell_type": "code",
   "execution_count": 24,
   "id": "79604373",
   "metadata": {},
   "outputs": [
    {
     "name": "stdout",
     "output_type": "stream",
     "text": [
      "      Lavanya  Mahitha  Siri  Teju\n",
      "SUB1       90       90    90    90\n",
      "SUB2       90       90    90    90\n",
      "SUB3       90       90    90    90\n"
     ]
    }
   ],
   "source": [
    "#Renaming Row Labels of a DataFrame\n",
    "a=MS.rename({'MATHS':'SUB1','HINDI':'SUB2','DSP':'SUB3'},axis='index')\n",
    "print(a)"
   ]
  },
  {
   "cell_type": "code",
   "execution_count": 26,
   "id": "2a9e0fe9",
   "metadata": {},
   "outputs": [
    {
     "name": "stdout",
     "output_type": "stream",
     "text": [
      "       student1  student2  student3  student4\n",
      "MATHS        90        90        90        90\n",
      "HINDI        90        90        90        90\n",
      "DSP          90        90        90        90\n"
     ]
    }
   ],
   "source": [
    "b=MS.rename({'Lavanya': 'student1','Mahitha':'student2','Siri':'student3','Teju':'student4'},axis='columns')\n",
    "print(b)"
   ]
  },
  {
   "cell_type": "code",
   "execution_count": 27,
   "id": "d21f57af",
   "metadata": {},
   "outputs": [
    {
     "name": "stdout",
     "output_type": "stream",
     "text": [
      "         Lavanya  Mahitha  Siri  Teju\n",
      "MATHS         90       92    96    90\n",
      "SCIENCE       91       81    98   100\n",
      "HINDI         93       89    94    97\n"
     ]
    }
   ],
   "source": [
    "#Accessing DataFrames Element through Indexing\n",
    "import pandas as pd\n",
    "a={'Lavanya': pd.Series([90,91,93],\n",
    "    index=[\"MATHS\",\"SCIENCE\",\"HINDI\"]),\n",
    "  'Mahitha':pd.Series([92,81,89],\n",
    "  index=[\"MATHS\",\"SCIENCE\",\"HINDI\"]),\n",
    "  'Siri':pd.Series([96,98,94],\n",
    "    index=[\"MATHS\",\"SCIENCE\",\"HINDI\"]),\n",
    "  'Teju':pd.Series([90,100,97],\n",
    "   index=[\"MATHS\",\"SCIENCE\",\"HINDI\"])}\n",
    "\n",
    "MS=pd.DataFrame(a)\n",
    "print(MS)"
   ]
  },
  {
   "cell_type": "code",
   "execution_count": 29,
   "id": "ef001d5b",
   "metadata": {},
   "outputs": [
    {
     "name": "stdout",
     "output_type": "stream",
     "text": [
      "Lavanya     91\n",
      "Mahitha     81\n",
      "Siri        98\n",
      "Teju       100\n",
      "Name: SCIENCE, dtype: int64\n"
     ]
    }
   ],
   "source": [
    "b=MS.loc['SCIENCE']\n",
    "print(b)"
   ]
  },
  {
   "cell_type": "code",
   "execution_count": 31,
   "id": "911fe298",
   "metadata": {},
   "outputs": [
    {
     "name": "stdout",
     "output_type": "stream",
     "text": [
      "MATHS      90\n",
      "SCIENCE    91\n",
      "HINDI      93\n",
      "Name: Lavanya, dtype: int64\n"
     ]
    }
   ],
   "source": [
    "print(MS['Lavanya'])"
   ]
  },
  {
   "cell_type": "code",
   "execution_count": 32,
   "id": "a1033c9f",
   "metadata": {},
   "outputs": [
    {
     "name": "stdout",
     "output_type": "stream",
     "text": [
      "Lavanya    False\n",
      "Mahitha     True\n",
      "Siri        True\n",
      "Teju       False\n",
      "Name: MATHS, dtype: bool\n"
     ]
    }
   ],
   "source": [
    "### Boolean Indexing\n",
    "a=MS.loc['MATHS']>90\n",
    "print(a)\n",
    "\n",
    "\n",
    "\n",
    "\n",
    "\n",
    "\n"
   ]
  },
  {
   "cell_type": "code",
   "execution_count": 35,
   "id": "d7877fb2",
   "metadata": {},
   "outputs": [
    {
     "name": "stdout",
     "output_type": "stream",
     "text": [
      "MATHS      90\n",
      "SCIENCE    91\n",
      "Name: Lavanya, dtype: int64\n"
     ]
    }
   ],
   "source": [
    "b=MS.loc['MATHS':'SCIENCE','Lavanya']\n",
    "print(b)"
   ]
  },
  {
   "cell_type": "code",
   "execution_count": 36,
   "id": "285aa768",
   "metadata": {},
   "outputs": [
    {
     "name": "stdout",
     "output_type": "stream",
     "text": [
      "         Lavanya  Mahitha  Siri  Teju\n",
      "MATHS         90       92    96    90\n",
      "SCIENCE       91       81    98   100\n"
     ]
    }
   ],
   "source": [
    "b=MS.loc['MATHS':'SCIENCE','Lavanya':'Teju']\n",
    "print(b)"
   ]
  },
  {
   "cell_type": "code",
   "execution_count": null,
   "id": "154f6ff2",
   "metadata": {},
   "outputs": [],
   "source": []
  }
 ],
 "metadata": {
  "kernelspec": {
   "display_name": "Python 3 (ipykernel)",
   "language": "python",
   "name": "python3"
  },
  "language_info": {
   "codemirror_mode": {
    "name": "ipython",
    "version": 3
   },
   "file_extension": ".py",
   "mimetype": "text/x-python",
   "name": "python",
   "nbconvert_exporter": "python",
   "pygments_lexer": "ipython3",
   "version": "3.10.5"
  }
 },
 "nbformat": 4,
 "nbformat_minor": 5
}
