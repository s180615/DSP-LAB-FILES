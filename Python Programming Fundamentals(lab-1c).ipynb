{
 "cells": [
  {
   "cell_type": "code",
   "execution_count": null,
   "id": "20ef1aca",
   "metadata": {},
   "outputs": [],
   "source": [
    "######################## CONDITIONS AND BRANCHING LOOPS ################################"
   ]
  },
  {
   "cell_type": "code",
   "execution_count": 1,
   "id": "17de1255",
   "metadata": {},
   "outputs": [
    {
     "name": "stdout",
     "output_type": "stream",
     "text": [
      "b is greater than a\n"
     ]
    }
   ],
   "source": [
    "# if statement\n",
    "a=35\n",
    "b=200\n",
    "if b>a:\n",
    "    print(\"b is greater than a\")"
   ]
  },
  {
   "cell_type": "code",
   "execution_count": 2,
   "id": "5959adf0",
   "metadata": {},
   "outputs": [
    {
     "name": "stdout",
     "output_type": "stream",
     "text": [
      "a and b are equal\n"
     ]
    }
   ],
   "source": [
    "#Elif statement\n",
    "a=55\n",
    "b=55\n",
    "if a>b:\n",
    "    print(\"b is greater than a\")\n",
    "elif a==b:\n",
    "    print(\"a and b are equal\")"
   ]
  },
  {
   "cell_type": "code",
   "execution_count": 5,
   "id": "ee1cba81",
   "metadata": {},
   "outputs": [
    {
     "name": "stdout",
     "output_type": "stream",
     "text": [
      "b is greater than a\n"
     ]
    }
   ],
   "source": [
    "##Else statement\n",
    "a=100\n",
    "b=299\n",
    "if a>b:\n",
    "    print(\"a is greater than b\")\n",
    "elif b==a:\n",
    "    print(\"b is equal to  a\")\n",
    "else:\n",
    "    print(\"b is greater than a\")\n"
   ]
  },
  {
   "cell_type": "code",
   "execution_count": 11,
   "id": "7cbaab6d",
   "metadata": {},
   "outputs": [
    {
     "name": "stdout",
     "output_type": "stream",
     "text": [
      "x is greater than 10\n"
     ]
    }
   ],
   "source": [
    "#####   Nested if statement\n",
    "x=32\n",
    "if x>10:\n",
    "    print(\"x is greater than 10\")\n",
    "    if (x<10):\n",
    "        print(\"x is less than 10\")\n",
    "else:\n",
    "        print(\"x is equal to 10\")\n",
    "        "
   ]
  },
  {
   "cell_type": "code",
   "execution_count": 12,
   "id": "b9587022",
   "metadata": {},
   "outputs": [],
   "source": [
    "##pass statement(avoiding error)\n",
    "a=100\n",
    "b=300\n",
    "if a>b:\n",
    "    pass"
   ]
  },
  {
   "cell_type": "code",
   "execution_count": 13,
   "id": "d8192b6c",
   "metadata": {},
   "outputs": [
    {
     "name": "stdout",
     "output_type": "stream",
     "text": [
      "1\n",
      "2\n",
      "3\n",
      "4\n",
      "5\n"
     ]
    }
   ],
   "source": [
    "#############looping statements ##########\n",
    "###### for loop ##########\n",
    "a=[1,2,3,4,5]\n",
    "for x in a:\n",
    "    print(x)"
   ]
  },
  {
   "cell_type": "code",
   "execution_count": 15,
   "id": "329e36d0",
   "metadata": {},
   "outputs": [
    {
     "name": "stdout",
     "output_type": "stream",
     "text": [
      "b\n",
      "a\n",
      "n\n",
      "a\n",
      "n\n",
      "a\n"
     ]
    }
   ],
   "source": [
    "a=[\"banana\",\"apple\",\"orange\"]\n",
    "for x in \"banana\":\n",
    "    print(x)"
   ]
  },
  {
   "cell_type": "code",
   "execution_count": 33,
   "id": "7651c5c7",
   "metadata": {},
   "outputs": [
    {
     "name": "stdout",
     "output_type": "stream",
     "text": [
      "lavanya\n",
      "mahitha\n",
      "siri\n",
      "teju\n"
     ]
    }
   ],
   "source": [
    "for x in a:\n",
    "    print(x)\n",
    "    if (x==\"apple\"):\n",
    "        break\n",
    "            \n",
    "    \n",
    " \n"
   ]
  },
  {
   "cell_type": "code",
   "execution_count": 34,
   "id": "d7fe80b8",
   "metadata": {},
   "outputs": [
    {
     "name": "stdout",
     "output_type": "stream",
     "text": [
      "teju\n"
     ]
    }
   ],
   "source": [
    "a=[\"lavanya\",\"mahitha\",\"siri\",\"teju\"]\n",
    "for x in a:\n",
    "     if (x==\"siri\"):\n",
    "            continue\n",
    "print(x)\n",
    "        \n",
    "    "
   ]
  },
  {
   "cell_type": "code",
   "execution_count": 35,
   "id": "54b8e0bc",
   "metadata": {},
   "outputs": [
    {
     "name": "stdout",
     "output_type": "stream",
     "text": [
      "0\n",
      "1\n",
      "2\n",
      "3\n",
      "4\n",
      "5\n",
      "6\n",
      "7\n",
      "8\n",
      "9\n"
     ]
    }
   ],
   "source": [
    "for x in range(10):\n",
    "    print(x)"
   ]
  },
  {
   "cell_type": "code",
   "execution_count": 39,
   "id": "c1418108",
   "metadata": {},
   "outputs": [
    {
     "name": "stdout",
     "output_type": "stream",
     "text": [
      "2\n",
      "3\n",
      "4\n",
      "5\n",
      "6\n"
     ]
    }
   ],
   "source": [
    "for x in range(2,7):\n",
    "    print(x)\n"
   ]
  },
  {
   "cell_type": "code",
   "execution_count": 44,
   "id": "bbf264da",
   "metadata": {},
   "outputs": [
    {
     "name": "stdout",
     "output_type": "stream",
     "text": [
      "2\n",
      "4\n",
      "6\n",
      "8\n",
      "10\n",
      "12\n",
      "14\n",
      "16\n",
      "18\n"
     ]
    }
   ],
   "source": [
    "for x in range(2,20,2):\n",
    "    print(x)\n"
   ]
  },
  {
   "cell_type": "code",
   "execution_count": 46,
   "id": "90ceb0cf",
   "metadata": {},
   "outputs": [
    {
     "name": "stdout",
     "output_type": "stream",
     "text": [
      "mahitha b1\n",
      "mahitha b2\n",
      "mahitha b3\n",
      "mahitha b4\n",
      "siri b1\n",
      "siri b2\n",
      "siri b3\n",
      "siri b4\n",
      "lavanya b1\n",
      "lavanya b2\n",
      "lavanya b3\n",
      "lavanya b4\n",
      "teju b1\n",
      "teju b2\n",
      "teju b3\n",
      "teju b4\n"
     ]
    }
   ],
   "source": [
    "a=[\"mahitha\",\"siri\",\"lavanya\",\"teju\"]\n",
    "b=[\"b1\",\"b2\",\"b3\",\"b4\"]\n",
    "for x in a:\n",
    "    for y in b:\n",
    "        print(x,y)\n"
   ]
  },
  {
   "cell_type": "code",
   "execution_count": null,
   "id": "6218039e",
   "metadata": {},
   "outputs": [],
   "source": [
    "i=1\n",
    "while(i<6):\n",
    "    print(i)\n",
    "    if i==3:\n",
    "        break\n",
    "    i=i+1"
   ]
  },
  {
   "cell_type": "code",
   "execution_count": null,
   "id": "34f60a09",
   "metadata": {},
   "outputs": [],
   "source": [
    "################## lab record ###########################"
   ]
  },
  {
   "cell_type": "code",
   "execution_count": null,
   "id": "cfb96712",
   "metadata": {},
   "outputs": [],
   "source": [
    "# PROGRAM TO FIND GREATEST NUMBER AMONG 3 NUMBERS USING IF CONDITION"
   ]
  },
  {
   "cell_type": "code",
   "execution_count": null,
   "id": "63fbeaa4",
   "metadata": {},
   "outputs": [],
   "source": [
    "a=int(input(\"enter a number=))\n",
    "b=int(input(\"enter a number=))\n",
    "c=int(input(\"enter a number=))\n",
    "if a>b & a>c:\n",
    "            print(\" a is greatest number\")\n",
    "if b>a & b>c:\n",
    "            print(\"b is greatest number\")\n",
    "if c>a & c>b:\n",
    "            print(\"c is greatest number\")\n",
    "            "
   ]
  },
  {
   "cell_type": "code",
   "execution_count": null,
   "id": "4e99da07",
   "metadata": {},
   "outputs": [],
   "source": []
  },
  {
   "cell_type": "code",
   "execution_count": null,
   "id": "54aef5a0",
   "metadata": {},
   "outputs": [],
   "source": []
  }
 ],
 "metadata": {
  "kernelspec": {
   "display_name": "Python 3 (ipykernel)",
   "language": "python",
   "name": "python3"
  },
  "language_info": {
   "codemirror_mode": {
    "name": "ipython",
    "version": 3
   },
   "file_extension": ".py",
   "mimetype": "text/x-python",
   "name": "python",
   "nbconvert_exporter": "python",
   "pygments_lexer": "ipython3",
   "version": "3.10.5"
  }
 },
 "nbformat": 4,
 "nbformat_minor": 5
}
