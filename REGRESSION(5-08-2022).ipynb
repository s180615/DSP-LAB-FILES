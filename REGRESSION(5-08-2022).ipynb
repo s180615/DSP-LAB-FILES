{
 "cells": [
  {
   "cell_type": "code",
   "execution_count": 1,
   "id": "2299fb00",
   "metadata": {},
   "outputs": [
    {
     "name": "stdout",
     "output_type": "stream",
     "text": [
      "[[ 5]\n",
      " [15]\n",
      " [25]\n",
      " [35]\n",
      " [45]\n",
      " [55]]\n",
      "[ 5 20 14 32 22 38]\n"
     ]
    },
    {
     "data": {
      "text/plain": [
       "<matplotlib.collections.PathCollection at 0x282daea9090>"
      ]
     },
     "execution_count": 1,
     "metadata": {},
     "output_type": "execute_result"
    },
    {
     "data": {
      "image/png": "[encoded data removed]",
      "text/plain": [
       "<Figure size 432x288 with 1 Axes>"
      ]
     },
     "metadata": {
      "needs_background": "light"
     },
     "output_type": "display_data"
    }
   ],
   "source": [
    "import numpy as np\n",
    "import pandas as pd\n",
    "import matplotlib.pyplot as plt\n",
    "from sklearn.linear_model import LinearRegression\n",
    "x=np.array([5,15,25,35,45,55]).reshape(-1,1)\n",
    "print(x)\n",
    "y=np.array([5,20,14,32,22,38])\n",
    "print(y)\n",
    "plt.scatter(x,y)"
   ]
  },
  {
   "cell_type": "markdown",
   "id": "5f81d85a",
   "metadata": {},
   "source": []
  },
  {
   "cell_type": "code",
   "execution_count": 2,
   "id": "5b2d7253",
   "metadata": {},
   "outputs": [
    {
     "name": "stdout",
     "output_type": "stream",
     "text": [
      "5.633333333333329\n",
      "[0.54]\n",
      "0.7158756137479542\n",
      "[ 8.33333333 13.73333333 19.13333333 24.53333333 29.93333333 35.33333333]\n",
      "1.0\n"
     ]
    },
    {
     "data": {
      "text/plain": [
       "[<matplotlib.lines.Line2D at 0x282dcfce050>]"
      ]
     },
     "execution_count": 2,
     "metadata": {},
     "output_type": "execute_result"
    },
    {
     "data": {
      "image/png": "[encoded data removed]",
      "text/plain": [
       "<Figure size 432x288 with 1 Axes>"
      ]
     },
     "metadata": {
      "needs_background": "light"
     },
     "output_type": "display_data"
    }
   ],
   "source": [
    "model=LinearRegression()\n",
    "model.fit(x,y)\n",
    "print(model.intercept_)\n",
    "print(model.coef_)\n",
    "print(model.score(x,y))\n",
    "y_pred=model.predict(x)\n",
    "print(y_pred)\n",
    "print(model.score(x,y_pred))\n",
    "plt.scatter(x,y)\n",
    "plt.plot(x,y_pred,color=\"yellow\",marker=\"*\",mec=\"g\")"
   ]
  },
  {
   "cell_type": "code",
   "execution_count": 11,
   "id": "b0370389",
   "metadata": {},
   "outputs": [
    {
     "name": "stdout",
     "output_type": "stream",
     "text": [
      "coefficient of determination:0.8615939258756776\n",
      "intercept:5.52257927519819\n",
      "coefficients:[0.44706965 0.25502548]\n",
      "predicted response:/n [ 5.77760476  8.012953   12.73867497 17.9744479  23.97529728 29.4660957\n",
      " 38.78227633 41.27265006]\n",
      "predicted response:/n [ 5.77760476  8.012953   12.73867497 17.9744479  23.97529728 29.4660957\n",
      " 38.78227633 41.27265006]\n"
     ]
    }
   ],
   "source": [
    "################## MULTILINEAR REGRESSION ###################\n",
    "import numpy as np\n",
    "from sklearn.linear_model import LinearRegression\n",
    "x=[[0,1],[5,1],[15,2],[25,5],[35,11],[45,15],[55,34],[60,35]]\n",
    "y=[4,5,20,14,32,22,38,43]\n",
    "x,y=np.array(x),np.array(y)\n",
    "model=LinearRegression().fit(x,y)\n",
    "r_sq=model.score(x,y)\n",
    "print(f\"coefficient of determination:{r_sq}\")\n",
    "print(f\"intercept:{model.intercept_}\")\n",
    "print(f\"coefficients:{model.coef_}\")\n",
    "y_pred=model.predict(x)\n",
    "print(f\"predicted response:/n {y_pred}\")\n",
    "y_pred=model.intercept_ +np.sum(model.coef_*x, axis=1)\n",
    "print(f\"predicted response:/n {y_pred}\")\n",
    "x_new=np.arange(10).reshape((-1,2))\n",
    "y_new=model.predict(x_new)\n"
   ]
  },
  {
   "cell_type": "code",
   "execution_count": 9,
   "id": "84357da5",
   "metadata": {},
   "outputs": [
    {
     "ename": "SyntaxError",
     "evalue": "invalid syntax (4236664513.py, line 1)",
     "output_type": "error",
     "traceback": [
      "\u001b[1;36m  Input \u001b[1;32mIn [9]\u001b[1;36m\u001b[0m\n\u001b[1;33m    from sklearn.preprocessing import polynomial Featuers\u001b[0m\n\u001b[1;37m                                                 ^\u001b[0m\n\u001b[1;31mSyntaxError\u001b[0m\u001b[1;31m:\u001b[0m invalid syntax\n"
     ]
    }
   ],
   "source": [
    "from sklearn.preprocessing import polynomial Featuers\n",
    "import numpy as np\n",
    "x=np.array([5,15,25,35,45,55]).reshape((-1,1))\n",
    "y=np.array([5,11,2,8,25,32])\n",
    "transformer=polynomialFeatuers(degree=2,include_bias=False)\n",
    "transformerfit(x)\n",
    "x=transformer.transform(x)\n",
    "from sklearn.linear_model import Linear Regression\n",
    "model=LinearRegression().fit(x,y)\n",
    "r_sq=model.score(x,y)\n",
    "print(\"r square\",r_sq)\n",
    "print(\"intercept:\",model.intercept_)\n",
    "print(\"coef:\",model.coef_)"
   ]
  },
  {
   "cell_type": "code",
   "execution_count": null,
   "id": "5d735d7d",
   "metadata": {},
   "outputs": [],
   "source": []
  },
  {
   "cell_type": "code",
   "execution_count": null,
   "id": "45c1527d",
   "metadata": {},
   "outputs": [],
   "source": []
  },
  {
   "cell_type": "code",
   "execution_count": null,
   "id": "fea382d4",
   "metadata": {},
   "outputs": [],
   "source": []
  }
 ],
 "metadata": {
  "kernelspec": {
   "display_name": "Python 3 (ipykernel)",
   "language": "python",
   "name": "python3"
  },
  "language_info": {
   "codemirror_mode": {
    "name": "ipython",
    "version": 3
   },
   "file_extension": ".py",
   "mimetype": "text/x-python",
   "name": "python",
   "nbconvert_exporter": "python",
   "pygments_lexer": "ipython3",
   "version": "3.10.5"
  }
 },
 "nbformat": 4,
 "nbformat_minor": 5
}
